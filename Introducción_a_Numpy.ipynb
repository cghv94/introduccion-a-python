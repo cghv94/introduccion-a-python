{
  "nbformat": 4,
  "nbformat_minor": 0,
  "metadata": {
    "colab": {
      "name": "Introducción a Numpy.ipynb",
      "provenance": [],
      "collapsed_sections": [
        "zgtPS4H_z7H1",
        "DAUCd2pM5kyb",
        "Cy7f7zig-ZRU",
        "sEiWAdIoAtOF"
      ],
      "authorship_tag": "ABX9TyNVGYl5E/evFgOBNecMC75S",
      "include_colab_link": true
    },
    "kernelspec": {
      "name": "python3",
      "display_name": "Python 3"
    }
  },
  "cells": [
    {
      "cell_type": "markdown",
      "metadata": {
        "id": "view-in-github",
        "colab_type": "text"
      },
      "source": [
        "<a href=\"https://colab.research.google.com/github/cghv94/introduccion-a-python/blob/main/Introducci%C3%B3n_a_Numpy.ipynb\" target=\"_parent\"><img src=\"https://colab.research.google.com/assets/colab-badge.svg\" alt=\"Open In Colab\"/></a>"
      ]
    },
    {
      "cell_type": "markdown",
      "metadata": {
        "id": "wkN1AayBxxB5"
      },
      "source": [
        "# **Introducción a NumPy**\n",
        "## **Facultad de Economía, UNAM**\n",
        "### **Profesor: Cesar Hernández**"
      ]
    },
    {
      "cell_type": "markdown",
      "metadata": {
        "id": "D8v5ryMhxxJX"
      },
      "source": [
        "**NumPy (Numerical Python)** es una librería de Python que permite realizar arreglos con vectores y matrices además de diversas funciones matemáticas."
      ]
    },
    {
      "cell_type": "code",
      "metadata": {
        "id": "CQ0Kav0Zx4Kc"
      },
      "source": [
        " # Para importar la librería\n",
        " import numpy as np"
      ],
      "execution_count": 1,
      "outputs": []
    },
    {
      "cell_type": "markdown",
      "metadata": {
        "id": "zgtPS4H_z7H1"
      },
      "source": [
        "## **Listas**\n",
        "\n",
        "Primero aprenderemos a trabajar con objetos de clase *list*. \n",
        "\n",
        "* Para crear una lista:\n",
        "\n"
      ]
    },
    {
      "cell_type": "code",
      "metadata": {
        "id": "UjV0nHyjxsSo",
        "colab": {
          "base_uri": "https://localhost:8080/",
          "height": 0
        },
        "outputId": "46e11ba7-e3c0-454c-9534-c3ac198729cd"
      },
      "source": [
        "lista = [12, 39, 41, 7]\n",
        "lista"
      ],
      "execution_count": 2,
      "outputs": [
        {
          "output_type": "execute_result",
          "data": {
            "text/plain": [
              "[12, 39, 41, 7]"
            ]
          },
          "metadata": {
            "tags": []
          },
          "execution_count": 2
        }
      ]
    },
    {
      "cell_type": "markdown",
      "metadata": {
        "id": "lrTlEWk_4l3j"
      },
      "source": [
        "* Para conocer qué tipo de objeto es *lista*:\n",
        "\n"
      ]
    },
    {
      "cell_type": "code",
      "metadata": {
        "id": "EQg5CFK53wkY",
        "colab": {
          "base_uri": "https://localhost:8080/",
          "height": 0
        },
        "outputId": "377d6e36-e6f6-40f4-b11f-3a55f586e739"
      },
      "source": [
        "print(type(lista))"
      ],
      "execution_count": 3,
      "outputs": [
        {
          "output_type": "stream",
          "text": [
            "<class 'list'>\n"
          ],
          "name": "stdout"
        }
      ]
    },
    {
      "cell_type": "markdown",
      "metadata": {
        "id": "4bFLqN0A4y_m"
      },
      "source": [
        "* Para unir el contenido de dos listas (no se pueden hacer operaciones matemáticas con listas):"
      ]
    },
    {
      "cell_type": "code",
      "metadata": {
        "id": "xOJgWYUL3w34",
        "colab": {
          "base_uri": "https://localhost:8080/",
          "height": 0
        },
        "outputId": "3086d418-ca8b-4fd2-fb4d-7f597299ee1c"
      },
      "source": [
        "print(lista + lista)"
      ],
      "execution_count": 4,
      "outputs": [
        {
          "output_type": "stream",
          "text": [
            "[12, 39, 41, 7, 12, 39, 41, 7]\n"
          ],
          "name": "stdout"
        }
      ]
    },
    {
      "cell_type": "markdown",
      "metadata": {
        "id": "DAUCd2pM5kyb"
      },
      "source": [
        "## **Vectores**\n",
        "\n",
        "Podemos convertir los objetos typo *list* a objetos tipo *array* con la ayuda de **NumPy** y la función *np.array*. \n",
        "\n",
        "* Para transformar nuestro objeto *lista* a un *vector*:\n",
        "\n"
      ]
    },
    {
      "cell_type": "code",
      "metadata": {
        "id": "EqB2m-4H6-ih",
        "colab": {
          "base_uri": "https://localhost:8080/",
          "height": 0
        },
        "outputId": "9b85ac86-2f74-49a5-840d-518f433c4de6"
      },
      "source": [
        "vector = np.array(lista)\n",
        "vector"
      ],
      "execution_count": 5,
      "outputs": [
        {
          "output_type": "execute_result",
          "data": {
            "text/plain": [
              "array([12, 39, 41,  7])"
            ]
          },
          "metadata": {
            "tags": []
          },
          "execution_count": 5
        }
      ]
    },
    {
      "cell_type": "markdown",
      "metadata": {
        "id": "wU5Wf0Fn7FI2"
      },
      "source": [
        "* Para saber qué tipo de objeto es *vector*:"
      ]
    },
    {
      "cell_type": "code",
      "metadata": {
        "id": "V5mg7Xcd7F65",
        "colab": {
          "base_uri": "https://localhost:8080/",
          "height": 0
        },
        "outputId": "3ebec587-f7ce-4cce-88aa-130157bc24bc"
      },
      "source": [
        "print(type(vector))"
      ],
      "execution_count": 6,
      "outputs": [
        {
          "output_type": "stream",
          "text": [
            "<class 'numpy.ndarray'>\n"
          ],
          "name": "stdout"
        }
      ]
    },
    {
      "cell_type": "markdown",
      "metadata": {
        "id": "8XAuVkF48bsN"
      },
      "source": [
        "* Para saber el número de elementos del *vector*:"
      ]
    },
    {
      "cell_type": "code",
      "metadata": {
        "id": "NKsDge3E8bsQ",
        "colab": {
          "base_uri": "https://localhost:8080/",
          "height": 0
        },
        "outputId": "71b86868-3b1b-4fbb-d93b-fa76a152d019"
      },
      "source": [
        "vector.size"
      ],
      "execution_count": 7,
      "outputs": [
        {
          "output_type": "execute_result",
          "data": {
            "text/plain": [
              "4"
            ]
          },
          "metadata": {
            "tags": []
          },
          "execution_count": 7
        }
      ]
    },
    {
      "cell_type": "markdown",
      "metadata": {
        "id": "IFKxGNU68FZ_"
      },
      "source": [
        "* Para obtener el menor valor dentro del *vector*:"
      ]
    },
    {
      "cell_type": "code",
      "metadata": {
        "id": "Xq5lxQKt8FbC",
        "colab": {
          "base_uri": "https://localhost:8080/",
          "height": 0
        },
        "outputId": "e6ad452a-3228-4132-a959-0c30fe892b0e"
      },
      "source": [
        "vector.min()"
      ],
      "execution_count": 8,
      "outputs": [
        {
          "output_type": "execute_result",
          "data": {
            "text/plain": [
              "7"
            ]
          },
          "metadata": {
            "tags": []
          },
          "execution_count": 8
        }
      ]
    },
    {
      "cell_type": "markdown",
      "metadata": {
        "id": "2ptJMLLV71K5"
      },
      "source": [
        "* Para obtener el mayor valor dentro del *vector*: \n"
      ]
    },
    {
      "cell_type": "code",
      "metadata": {
        "id": "G-yD6jYM71hH",
        "colab": {
          "base_uri": "https://localhost:8080/",
          "height": 0
        },
        "outputId": "faef8a0b-27cb-4943-ee8b-524ef33eec6f"
      },
      "source": [
        "vector.max()"
      ],
      "execution_count": 9,
      "outputs": [
        {
          "output_type": "execute_result",
          "data": {
            "text/plain": [
              "41"
            ]
          },
          "metadata": {
            "tags": []
          },
          "execution_count": 9
        }
      ]
    },
    {
      "cell_type": "markdown",
      "metadata": {
        "id": "1wqgkq0R8B6H"
      },
      "source": [
        "* Para ordenar los elementos del *vector* de menor a mayor"
      ]
    },
    {
      "cell_type": "code",
      "metadata": {
        "id": "nIuhL1JB8CjS",
        "colab": {
          "base_uri": "https://localhost:8080/",
          "height": 0
        },
        "outputId": "77440475-9d6a-435c-d688-019d27fb30cb"
      },
      "source": [
        "vector.sort()\n",
        "vector"
      ],
      "execution_count": 10,
      "outputs": [
        {
          "output_type": "execute_result",
          "data": {
            "text/plain": [
              "array([ 7, 12, 39, 41])"
            ]
          },
          "metadata": {
            "tags": []
          },
          "execution_count": 10
        }
      ]
    },
    {
      "cell_type": "markdown",
      "metadata": {
        "id": "pboaBpCa9mhO"
      },
      "source": [
        "* Para sumar los elementos de un *vector*:"
      ]
    },
    {
      "cell_type": "code",
      "metadata": {
        "id": "ybZzR3D3xucO",
        "colab": {
          "base_uri": "https://localhost:8080/",
          "height": 0
        },
        "outputId": "c12d1aaa-2bd7-47d6-c3b2-4a72999e4b2b"
      },
      "source": [
        "vector.sum()"
      ],
      "execution_count": 11,
      "outputs": [
        {
          "output_type": "execute_result",
          "data": {
            "text/plain": [
              "99"
            ]
          },
          "metadata": {
            "tags": []
          },
          "execution_count": 11
        }
      ]
    },
    {
      "cell_type": "markdown",
      "metadata": {
        "id": "Cy7f7zig-ZRU"
      },
      "source": [
        "## **Operaciones con vectores**\n",
        "\n",
        "Podemos hacer algunas operaciones matemáticas con objetos tipo *np.array*. \n",
        "\n",
        "* Primero crearemos el *vector_a* y el *vector _b*:\n"
      ]
    },
    {
      "cell_type": "code",
      "metadata": {
        "id": "lJz0-waQ-ZSZ",
        "colab": {
          "base_uri": "https://localhost:8080/",
          "height": 0
        },
        "outputId": "5de8c12c-7f3b-432a-bbbf-0425fbc54e23"
      },
      "source": [
        "vector_a = np.array([ -3, -1, 2, 4])\n",
        "vector_b = np.array([ -2, 0, 1, 3])\n",
        "print(vector_a, vector_b)"
      ],
      "execution_count": 12,
      "outputs": [
        {
          "output_type": "stream",
          "text": [
            "[-3 -1  2  4] [-2  0  1  3]\n"
          ],
          "name": "stdout"
        }
      ]
    },
    {
      "cell_type": "markdown",
      "metadata": {
        "id": "tOeqLAEj936A"
      },
      "source": [
        "* Para sumar dos vectores:"
      ]
    },
    {
      "cell_type": "code",
      "metadata": {
        "id": "WKonAtTK936i",
        "colab": {
          "base_uri": "https://localhost:8080/",
          "height": 0
        },
        "outputId": "fd32d149-834b-4341-df16-9dd907b2bd34"
      },
      "source": [
        "print(vector_a + vector_b)"
      ],
      "execution_count": 13,
      "outputs": [
        {
          "output_type": "stream",
          "text": [
            "[-5 -1  3  7]\n"
          ],
          "name": "stdout"
        }
      ]
    },
    {
      "cell_type": "markdown",
      "metadata": {
        "id": "u3LKufNI_YWq"
      },
      "source": [
        "* Para restar dos vectores:"
      ]
    },
    {
      "cell_type": "code",
      "metadata": {
        "id": "ASya_ou5_YXs",
        "colab": {
          "base_uri": "https://localhost:8080/",
          "height": 0
        },
        "outputId": "845a98ce-9706-4f46-d5db-574bf9a219c4"
      },
      "source": [
        "print(vector_b - vector_a)"
      ],
      "execution_count": 14,
      "outputs": [
        {
          "output_type": "stream",
          "text": [
            "[ 1  1 -1 -1]\n"
          ],
          "name": "stdout"
        }
      ]
    },
    {
      "cell_type": "markdown",
      "metadata": {
        "id": "n3iu-w6M_szC"
      },
      "source": [
        "* Para multiplicar un vector por un escalar:"
      ]
    },
    {
      "cell_type": "code",
      "metadata": {
        "id": "TD-e3dpF_szE",
        "colab": {
          "base_uri": "https://localhost:8080/",
          "height": 0
        },
        "outputId": "ee241628-5042-49f8-bd58-d63eb371ee45"
      },
      "source": [
        "print(vector_b * 5)"
      ],
      "execution_count": 15,
      "outputs": [
        {
          "output_type": "stream",
          "text": [
            "[-10   0   5  15]\n"
          ],
          "name": "stdout"
        }
      ]
    },
    {
      "cell_type": "markdown",
      "metadata": {
        "id": "yPtpc82P_iuc"
      },
      "source": [
        "* Para multiplicar dos vectores:"
      ]
    },
    {
      "cell_type": "code",
      "metadata": {
        "id": "bVVCHpvZ_iuf",
        "colab": {
          "base_uri": "https://localhost:8080/",
          "height": 0
        },
        "outputId": "3290a1cc-238e-466b-cae8-63227de33b7f"
      },
      "source": [
        "print(vector_a * vector_b)"
      ],
      "execution_count": 16,
      "outputs": [
        {
          "output_type": "stream",
          "text": [
            "[ 6  0  2 12]\n"
          ],
          "name": "stdout"
        }
      ]
    },
    {
      "cell_type": "markdown",
      "metadata": {
        "id": "TfX4htVf99R4"
      },
      "source": [
        "* Para dividir dos vectores:"
      ]
    },
    {
      "cell_type": "code",
      "metadata": {
        "id": "kxuKPwHg99R6",
        "colab": {
          "base_uri": "https://localhost:8080/",
          "height": 0
        },
        "outputId": "c83aa51d-5e3a-4adb-b9c4-aed546827029"
      },
      "source": [
        "print(vector_b / vector_a)"
      ],
      "execution_count": 17,
      "outputs": [
        {
          "output_type": "stream",
          "text": [
            "[ 0.66666667 -0.          0.5         0.75      ]\n"
          ],
          "name": "stdout"
        }
      ]
    },
    {
      "cell_type": "markdown",
      "metadata": {
        "id": "h2H1jqOfAJaF"
      },
      "source": [
        "* Para redondear los valores de un vector:"
      ]
    },
    {
      "cell_type": "code",
      "metadata": {
        "id": "8hOvEzSxAJaG",
        "colab": {
          "base_uri": "https://localhost:8080/",
          "height": 0
        },
        "outputId": "9f12d3f8-a393-4c00-d536-dfdb9a15f281"
      },
      "source": [
        "division = vector_b / vector_a\n",
        "division.round()"
      ],
      "execution_count": 18,
      "outputs": [
        {
          "output_type": "execute_result",
          "data": {
            "text/plain": [
              "array([ 1., -0.,  0.,  1.])"
            ]
          },
          "metadata": {
            "tags": []
          },
          "execution_count": 18
        }
      ]
    },
    {
      "cell_type": "markdown",
      "metadata": {
        "id": "sEiWAdIoAtOF"
      },
      "source": [
        "## **Matrices y operaciones con matrices**\n",
        "\n",
        "Podemos hacer matrices si integramos varias listas a onjetos de tipo *np.array*. \n",
        "\n",
        "* Primero crearemos los objetos *vector_c*, *vector_d* y *vector_e* y después los integraremos en un objeto tipo *np.array*:\n"
      ]
    },
    {
      "cell_type": "code",
      "metadata": {
        "id": "CyJrRkIVAtPS",
        "colab": {
          "base_uri": "https://localhost:8080/",
          "height": 0
        },
        "outputId": "461afd86-aafb-460f-fd98-0d7bde856714"
      },
      "source": [
        "vector_c = [ 15, 21, 45]\n",
        "vector_d = [ 63, 30, 29]\n",
        "vector_e = [ 36, 54, 71]\n",
        "matriz = np.array([vector_c, vector_d, vector_e])\n",
        "matriz"
      ],
      "execution_count": 19,
      "outputs": [
        {
          "output_type": "execute_result",
          "data": {
            "text/plain": [
              "array([[15, 21, 45],\n",
              "       [63, 30, 29],\n",
              "       [36, 54, 71]])"
            ]
          },
          "metadata": {
            "tags": []
          },
          "execution_count": 19
        }
      ]
    },
    {
      "cell_type": "markdown",
      "metadata": {
        "id": "_p_BvGSYCsQ-"
      },
      "source": [
        "* Para sumar dos matrices:"
      ]
    },
    {
      "cell_type": "code",
      "metadata": {
        "id": "qGg1vJ1vCsR6",
        "colab": {
          "base_uri": "https://localhost:8080/",
          "height": 0
        },
        "outputId": "debfd801-942b-4000-af1b-76cf1a3c09d4"
      },
      "source": [
        "print(matriz + matriz)"
      ],
      "execution_count": 20,
      "outputs": [
        {
          "output_type": "stream",
          "text": [
            "[[ 30  42  90]\n",
            " [126  60  58]\n",
            " [ 72 108 142]]\n"
          ],
          "name": "stdout"
        }
      ]
    },
    {
      "cell_type": "markdown",
      "metadata": {
        "id": "W1uXfMaPDbFz"
      },
      "source": [
        "* Para multiplicar dos matrices:"
      ]
    },
    {
      "cell_type": "code",
      "metadata": {
        "id": "M7og3VxLDbG4",
        "colab": {
          "base_uri": "https://localhost:8080/",
          "height": 0
        },
        "outputId": "e95dd53f-af24-4806-b344-993a2a956e2d"
      },
      "source": [
        "print(matriz * matriz)"
      ],
      "execution_count": 21,
      "outputs": [
        {
          "output_type": "stream",
          "text": [
            "[[ 225  441 2025]\n",
            " [3969  900  841]\n",
            " [1296 2916 5041]]\n"
          ],
          "name": "stdout"
        }
      ]
    },
    {
      "cell_type": "markdown",
      "metadata": {
        "id": "QsyHRNxBDh5M"
      },
      "source": [
        "* Para dividir dos matrices:"
      ]
    },
    {
      "cell_type": "code",
      "metadata": {
        "id": "_qoyWeGJDh5P",
        "colab": {
          "base_uri": "https://localhost:8080/",
          "height": 0
        },
        "outputId": "2815e478-80d6-48bd-a3e5-1000da62e4a9"
      },
      "source": [
        "print(matriz / matriz)"
      ],
      "execution_count": 22,
      "outputs": [
        {
          "output_type": "stream",
          "text": [
            "[[1. 1. 1.]\n",
            " [1. 1. 1.]\n",
            " [1. 1. 1.]]\n"
          ],
          "name": "stdout"
        }
      ]
    },
    {
      "cell_type": "markdown",
      "metadata": {
        "id": "cAkxtapJD_p_"
      },
      "source": [
        "* Para obtener el determinante de una matriz:"
      ]
    },
    {
      "cell_type": "code",
      "metadata": {
        "id": "ltFYCiTY91JQ",
        "colab": {
          "base_uri": "https://localhost:8080/",
          "height": 0
        },
        "outputId": "48dbb5c5-e0a4-4861-f00a-e84beb0cdd46"
      },
      "source": [
        "np.linalg.det(matriz)"
      ],
      "execution_count": 23,
      "outputs": [
        {
          "output_type": "execute_result",
          "data": {
            "text/plain": [
              "40940.99999999999"
            ]
          },
          "metadata": {
            "tags": []
          },
          "execution_count": 23
        }
      ]
    },
    {
      "cell_type": "markdown",
      "metadata": {
        "id": "J4EwFrLhEnLm"
      },
      "source": [
        "* Para obtener la matriz inversa:"
      ]
    },
    {
      "cell_type": "code",
      "metadata": {
        "id": "8LLilEDDEnMG",
        "colab": {
          "base_uri": "https://localhost:8080/",
          "height": 0
        },
        "outputId": "960c6873-2170-4892-bd54-428550be7d67"
      },
      "source": [
        "np.linalg.inv(matriz)"
      ],
      "execution_count": 24,
      "outputs": [
        {
          "output_type": "execute_result",
          "data": {
            "text/plain": [
              "array([[ 0.01377592,  0.02293544, -0.01809922],\n",
              "       [-0.08375467, -0.01355609,  0.05862094],\n",
              "       [ 0.05671576, -0.00131897, -0.02132337]])"
            ]
          },
          "metadata": {
            "tags": []
          },
          "execution_count": 24
        }
      ]
    },
    {
      "cell_type": "markdown",
      "metadata": {
        "id": "iIvk_QFpFqgC"
      },
      "source": [
        "## **Material adicional**\n",
        "\n",
        "**NumPy** es una librería de código abierto que cuenta con una gran comunidad por detrás. Podrás encontrar diversos recursos en línea que te ayudarán a continuar con tu aprendizaje. A continuación te dejamos algunas sugerencias de recursos en línea con los que podrás reforzar tu aprendizaje:\n",
        "\n",
        "* [Learn NumPy in 5 minutes](https://www.youtube.com/watch?v=xECXZ3tyONo)\n",
        "* [Introduction to NumPy](https://colab.research.google.com/github/jakevdp/PythonDataScienceHandbook/blob/master/notebooks/02.00-Introduction-to-NumPy.ipynb)\n",
        "*[Learn NumPy](https://www.tutorialspoint.com/numpy/)\n",
        "\n"
      ]
    },
    {
      "cell_type": "markdown",
      "metadata": {
        "id": "3SifDDugHizo"
      },
      "source": [
        "## **Créditos**\n",
        "\n",
        "Esta obra fue generada mediante en Colaboratory el 27 de enero de 2020 y forma parte de las actividades realizadas en las materias de [Matemáticas I y Taller III](https://mateytaller.github.io/), [Facultad de Economía, UNAM](http://economia.unam.mx/).\n",
        "\n",
        "<p>Esta obra está bajo una <a rel=\"license\" href=\"http://creativecommons.org/licenses/by-nc-sa/4.0/\">licencia de Creative Commons Reconocimiento-NoComercial-CompartirIgual 4.0 Internacional. </a>Creative Commons (CC).<a rel=\"license\" href=\"http://creativecommons.org/licenses/by-nc-sa/4.0/\"><img alt=\"Licencia de Creative Commons\" style=\"border-width:0\" src=\"https://i.creativecommons.org/l/by-nc-sa/4.0/80x15.png\" /></a></p>"
      ]
    }
  ]
}